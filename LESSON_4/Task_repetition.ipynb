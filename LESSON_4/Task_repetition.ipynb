{
 "cells": [
  {
   "cell_type": "markdown",
   "id": "45b8d917",
   "metadata": {},
   "source": [
    "# Задание 1\n",
    "Создать одномерный массив Numpy под названием a из 12 последовательных целых чисел\n",
    "чисел от 12 до 24 невключительно"
   ]
  },
  {
   "cell_type": "code",
   "execution_count": 1,
   "id": "1d78ce72",
   "metadata": {},
   "outputs": [],
   "source": [
    "import numpy as np"
   ]
  },
  {
   "cell_type": "code",
   "execution_count": 8,
   "id": "b0d6d127",
   "metadata": {},
   "outputs": [],
   "source": [
    "a = np.arange(12, 24)"
   ]
  },
  {
   "cell_type": "code",
   "execution_count": 9,
   "id": "37546946",
   "metadata": {},
   "outputs": [
    {
     "data": {
      "text/plain": [
       "array([12, 13, 14, 15, 16, 17, 18, 19, 20, 21, 22, 23])"
      ]
     },
     "execution_count": 9,
     "metadata": {},
     "output_type": "execute_result"
    }
   ],
   "source": [
    "a"
   ]
  },
  {
   "cell_type": "markdown",
   "id": "6fe13f06",
   "metadata": {},
   "source": [
    "# Задание 2\n",
    "Создать 5 двумерных массивов разной формы из массива a. Не использовать в аргументах\n",
    "метода reshape число -1."
   ]
  },
  {
   "cell_type": "code",
   "execution_count": 11,
   "id": "59397074",
   "metadata": {},
   "outputs": [],
   "source": [
    "q = a.reshape(2,6)\n",
    "w = a.reshape(3,4)\n",
    "e = a.reshape(4,3)\n",
    "r = a.reshape(6,2)\n",
    "t = a.reshape(12,1)"
   ]
  },
  {
   "cell_type": "code",
   "execution_count": 12,
   "id": "21c6f185",
   "metadata": {},
   "outputs": [
    {
     "data": {
      "text/plain": [
       "array([[12, 13, 14, 15, 16, 17],\n",
       "       [18, 19, 20, 21, 22, 23]])"
      ]
     },
     "execution_count": 12,
     "metadata": {},
     "output_type": "execute_result"
    }
   ],
   "source": [
    "q"
   ]
  },
  {
   "cell_type": "code",
   "execution_count": 13,
   "id": "a827181b",
   "metadata": {},
   "outputs": [
    {
     "data": {
      "text/plain": [
       "array([[12, 13, 14, 15],\n",
       "       [16, 17, 18, 19],\n",
       "       [20, 21, 22, 23]])"
      ]
     },
     "execution_count": 13,
     "metadata": {},
     "output_type": "execute_result"
    }
   ],
   "source": [
    "w"
   ]
  },
  {
   "cell_type": "code",
   "execution_count": 14,
   "id": "d47974b3",
   "metadata": {},
   "outputs": [
    {
     "data": {
      "text/plain": [
       "array([[12, 13, 14],\n",
       "       [15, 16, 17],\n",
       "       [18, 19, 20],\n",
       "       [21, 22, 23]])"
      ]
     },
     "execution_count": 14,
     "metadata": {},
     "output_type": "execute_result"
    }
   ],
   "source": [
    "e"
   ]
  },
  {
   "cell_type": "code",
   "execution_count": 15,
   "id": "e3c57578",
   "metadata": {},
   "outputs": [
    {
     "data": {
      "text/plain": [
       "array([[12, 13],\n",
       "       [14, 15],\n",
       "       [16, 17],\n",
       "       [18, 19],\n",
       "       [20, 21],\n",
       "       [22, 23]])"
      ]
     },
     "execution_count": 15,
     "metadata": {},
     "output_type": "execute_result"
    }
   ],
   "source": [
    "r"
   ]
  },
  {
   "cell_type": "code",
   "execution_count": 16,
   "id": "2421b14e",
   "metadata": {},
   "outputs": [
    {
     "data": {
      "text/plain": [
       "array([[12],\n",
       "       [13],\n",
       "       [14],\n",
       "       [15],\n",
       "       [16],\n",
       "       [17],\n",
       "       [18],\n",
       "       [19],\n",
       "       [20],\n",
       "       [21],\n",
       "       [22],\n",
       "       [23]])"
      ]
     },
     "execution_count": 16,
     "metadata": {},
     "output_type": "execute_result"
    }
   ],
   "source": [
    "t"
   ]
  },
  {
   "cell_type": "markdown",
   "id": "92913c31",
   "metadata": {},
   "source": [
    "# Задание 3 \n",
    "Создать 5 двумерных массивов разной формы из массива a. Использовать в аргументах\n",
    "метода reshape число -1 (в трех примерах - для обозначения числа столбцов, в двух - для\n",
    "строк)."
   ]
  },
  {
   "cell_type": "code",
   "execution_count": 25,
   "id": "77b80763",
   "metadata": {},
   "outputs": [],
   "source": [
    "q = a.reshape(2,-1)\n",
    "w = a.reshape(3,-1)\n",
    "e = a.reshape(-1,3)\n",
    "r = a.reshape(-1,2)\n",
    "t = a.reshape(-1,1)"
   ]
  },
  {
   "cell_type": "code",
   "execution_count": 26,
   "id": "3eed40fe",
   "metadata": {},
   "outputs": [
    {
     "data": {
      "text/plain": [
       "array([[12, 13, 14, 15, 16, 17],\n",
       "       [18, 19, 20, 21, 22, 23]])"
      ]
     },
     "execution_count": 26,
     "metadata": {},
     "output_type": "execute_result"
    }
   ],
   "source": [
    "q"
   ]
  },
  {
   "cell_type": "code",
   "execution_count": 27,
   "id": "deb64253",
   "metadata": {},
   "outputs": [
    {
     "data": {
      "text/plain": [
       "array([[12, 13, 14, 15],\n",
       "       [16, 17, 18, 19],\n",
       "       [20, 21, 22, 23]])"
      ]
     },
     "execution_count": 27,
     "metadata": {},
     "output_type": "execute_result"
    }
   ],
   "source": [
    "w"
   ]
  },
  {
   "cell_type": "code",
   "execution_count": 28,
   "id": "bddd50ef",
   "metadata": {},
   "outputs": [
    {
     "data": {
      "text/plain": [
       "array([[12, 13, 14],\n",
       "       [15, 16, 17],\n",
       "       [18, 19, 20],\n",
       "       [21, 22, 23]])"
      ]
     },
     "execution_count": 28,
     "metadata": {},
     "output_type": "execute_result"
    }
   ],
   "source": [
    "e"
   ]
  },
  {
   "cell_type": "code",
   "execution_count": 29,
   "id": "349c4ad8",
   "metadata": {},
   "outputs": [
    {
     "data": {
      "text/plain": [
       "array([[12, 13],\n",
       "       [14, 15],\n",
       "       [16, 17],\n",
       "       [18, 19],\n",
       "       [20, 21],\n",
       "       [22, 23]])"
      ]
     },
     "execution_count": 29,
     "metadata": {},
     "output_type": "execute_result"
    }
   ],
   "source": [
    "r"
   ]
  },
  {
   "cell_type": "code",
   "execution_count": 30,
   "id": "d9c37369",
   "metadata": {},
   "outputs": [
    {
     "data": {
      "text/plain": [
       "array([[12],\n",
       "       [13],\n",
       "       [14],\n",
       "       [15],\n",
       "       [16],\n",
       "       [17],\n",
       "       [18],\n",
       "       [19],\n",
       "       [20],\n",
       "       [21],\n",
       "       [22],\n",
       "       [23]])"
      ]
     },
     "execution_count": 30,
     "metadata": {},
     "output_type": "execute_result"
    }
   ],
   "source": [
    "t"
   ]
  },
  {
   "cell_type": "markdown",
   "id": "7ad67fec",
   "metadata": {},
   "source": [
    "# Задание 4\n",
    "Можно ли массив Numpy, состоящий из одного столбца и 12 строк, назвать одномерным?\n",
    "Ответ: нет"
   ]
  },
  {
   "cell_type": "markdown",
   "id": "5cc3470f",
   "metadata": {},
   "source": [
    "# Задание 5\n",
    "Создать массив из 3 строк и 4 столбцов, состоящий из случайных чисел с плавающей запятой\n",
    "из нормального распределения со средним, равным 0 и среднеквадратичным отклонением,\n",
    "равным 1.0. Получить из этого массива одномерный массив с таким же атрибутом size, как и\n",
    "исходный массив."
   ]
  },
  {
   "cell_type": "code",
   "execution_count": 31,
   "id": "9738dd3a",
   "metadata": {},
   "outputs": [],
   "source": [
    "a = np.random.randn(3, 4)"
   ]
  },
  {
   "cell_type": "code",
   "execution_count": 34,
   "id": "5dfa22b1",
   "metadata": {},
   "outputs": [
    {
     "data": {
      "text/plain": [
       "array([[ 1.33542173, -0.02869935, -1.64247152, -0.22570147],\n",
       "       [-0.26982158, -1.33628978, -1.35515273, -0.63697809],\n",
       "       [-1.68747763, -0.1901058 ,  1.08515148,  1.19343364]])"
      ]
     },
     "execution_count": 34,
     "metadata": {},
     "output_type": "execute_result"
    }
   ],
   "source": [
    "a"
   ]
  },
  {
   "cell_type": "code",
   "execution_count": 40,
   "id": "68d7e3b8",
   "metadata": {},
   "outputs": [],
   "source": [
    "b = a.reshape(12)"
   ]
  },
  {
   "cell_type": "code",
   "execution_count": 41,
   "id": "03a0d894",
   "metadata": {},
   "outputs": [
    {
     "data": {
      "text/plain": [
       "array([ 1.33542173, -0.02869935, -1.64247152, -0.22570147, -0.26982158,\n",
       "       -1.33628978, -1.35515273, -0.63697809, -1.68747763, -0.1901058 ,\n",
       "        1.08515148,  1.19343364])"
      ]
     },
     "execution_count": 41,
     "metadata": {},
     "output_type": "execute_result"
    }
   ],
   "source": [
    "b"
   ]
  },
  {
   "cell_type": "markdown",
   "id": "4bae519e",
   "metadata": {},
   "source": [
    "# Задание 6\n",
    "Создать массив a, состоящий из целых чисел, убывающих от 20 до 0 невключительно с\n",
    "интервалом 2."
   ]
  },
  {
   "cell_type": "code",
   "execution_count": 51,
   "id": "a7207b50",
   "metadata": {},
   "outputs": [],
   "source": [
    "a = np.arange(19, 0, -2)"
   ]
  },
  {
   "cell_type": "code",
   "execution_count": 52,
   "id": "097fca6a",
   "metadata": {},
   "outputs": [
    {
     "data": {
      "text/plain": [
       "array([19, 17, 15, 13, 11,  9,  7,  5,  3,  1])"
      ]
     },
     "execution_count": 52,
     "metadata": {},
     "output_type": "execute_result"
    }
   ],
   "source": [
    "a"
   ]
  },
  {
   "cell_type": "markdown",
   "id": "b9e12ed6",
   "metadata": {},
   "source": [
    "# Задание 7\n",
    "Создать массив b, состоящий из 1 строки и 10 столбцов: целых чисел, убывающих от 20 до 1\n",
    "невключительно с интервалом 2. В чем разница между массивами a и b?"
   ]
  },
  {
   "cell_type": "code",
   "execution_count": 63,
   "id": "98cab2ad",
   "metadata": {},
   "outputs": [],
   "source": [
    "b = np.arange(19, 0, -2)\n",
    "b = b.reshape(b.size, 1)"
   ]
  },
  {
   "cell_type": "code",
   "execution_count": 64,
   "id": "f70cef75",
   "metadata": {},
   "outputs": [
    {
     "data": {
      "text/plain": [
       "array([[19],\n",
       "       [17],\n",
       "       [15],\n",
       "       [13],\n",
       "       [11],\n",
       "       [ 9],\n",
       "       [ 7],\n",
       "       [ 5],\n",
       "       [ 3],\n",
       "       [ 1]])"
      ]
     },
     "execution_count": 64,
     "metadata": {},
     "output_type": "execute_result"
    }
   ],
   "source": [
    "b"
   ]
  },
  {
   "cell_type": "markdown",
   "id": "2408eeca",
   "metadata": {},
   "source": [
    "Разница между массивами а и б: массив а - одномерный, массив б - двумерный"
   ]
  },
  {
   "cell_type": "markdown",
   "id": "2cf8ac5d",
   "metadata": {},
   "source": [
    "# Задание 8 \n",
    "Вертикально соединить массивы a и b. a - двумерный массив из нулей, число строк которого\n",
    "больше 1 и на 1 меньше, чем число строк двумерного массива b, состоящего из единиц.\n",
    "Итоговый массив v должен иметь атрибут size, равный 10."
   ]
  },
  {
   "cell_type": "code",
   "execution_count": 81,
   "id": "2080b8c5",
   "metadata": {},
   "outputs": [],
   "source": [
    "a = np.zeros((2, 2))"
   ]
  },
  {
   "cell_type": "code",
   "execution_count": 82,
   "id": "f9085cd8",
   "metadata": {},
   "outputs": [
    {
     "data": {
      "text/plain": [
       "array([[0., 0.],\n",
       "       [0., 0.]])"
      ]
     },
     "execution_count": 82,
     "metadata": {},
     "output_type": "execute_result"
    }
   ],
   "source": [
    "a"
   ]
  },
  {
   "cell_type": "code",
   "execution_count": 83,
   "id": "e1c6f2db",
   "metadata": {},
   "outputs": [],
   "source": [
    "b = np.ones((3, 2))"
   ]
  },
  {
   "cell_type": "code",
   "execution_count": 84,
   "id": "b21ff55f",
   "metadata": {},
   "outputs": [
    {
     "data": {
      "text/plain": [
       "array([[1., 1.],\n",
       "       [1., 1.],\n",
       "       [1., 1.]])"
      ]
     },
     "execution_count": 84,
     "metadata": {},
     "output_type": "execute_result"
    }
   ],
   "source": [
    "b"
   ]
  },
  {
   "cell_type": "code",
   "execution_count": 85,
   "id": "04800bf0",
   "metadata": {},
   "outputs": [],
   "source": [
    "v = np.concatenate((a, b), axis=0)"
   ]
  },
  {
   "cell_type": "code",
   "execution_count": 86,
   "id": "d531d622",
   "metadata": {},
   "outputs": [
    {
     "data": {
      "text/plain": [
       "array([[0., 0.],\n",
       "       [0., 0.],\n",
       "       [1., 1.],\n",
       "       [1., 1.],\n",
       "       [1., 1.]])"
      ]
     },
     "execution_count": 86,
     "metadata": {},
     "output_type": "execute_result"
    }
   ],
   "source": [
    "v"
   ]
  },
  {
   "cell_type": "code",
   "execution_count": 87,
   "id": "d9f8f88f",
   "metadata": {},
   "outputs": [
    {
     "data": {
      "text/plain": [
       "10"
      ]
     },
     "execution_count": 87,
     "metadata": {},
     "output_type": "execute_result"
    }
   ],
   "source": [
    "v.size"
   ]
  },
  {
   "cell_type": "markdown",
   "id": "ab93d48c",
   "metadata": {},
   "source": [
    "# Задание 9\n",
    "Создать одномерный массив а, состоящий из последовательности целых чисел от 0 до 12.\n",
    "Поменять форму этого массива, чтобы получилась матрица A (двумерный массив Numpy),\n",
    "состоящая из 4 строк и 3 столбцов. Получить матрицу At путем транспонирования матрицы A.\n",
    "Получить матрицу B, умножив матрицу A на матрицу At с помощью матричного умножения.\n",
    "Какой размер имеет матрица B? Получится ли вычислить обратную матрицу для матрицы B и\n",
    "почему?"
   ]
  },
  {
   "cell_type": "code",
   "execution_count": 27,
   "id": "42b626ee",
   "metadata": {},
   "outputs": [],
   "source": [
    "a = np.arange(0, 12)"
   ]
  },
  {
   "cell_type": "code",
   "execution_count": 28,
   "id": "c174048e",
   "metadata": {},
   "outputs": [],
   "source": [
    "A = a.reshape(4, 3)"
   ]
  },
  {
   "cell_type": "code",
   "execution_count": 29,
   "id": "f7ab16f8",
   "metadata": {},
   "outputs": [],
   "source": [
    "At = A.T"
   ]
  },
  {
   "cell_type": "code",
   "execution_count": 30,
   "id": "a793372f",
   "metadata": {},
   "outputs": [
    {
     "data": {
      "text/plain": [
       "array([[ 0,  3,  6,  9],\n",
       "       [ 1,  4,  7, 10],\n",
       "       [ 2,  5,  8, 11]])"
      ]
     },
     "execution_count": 30,
     "metadata": {},
     "output_type": "execute_result"
    }
   ],
   "source": [
    "At"
   ]
  },
  {
   "cell_type": "code",
   "execution_count": 31,
   "id": "f0552705",
   "metadata": {},
   "outputs": [],
   "source": [
    "B = A.dot(At)"
   ]
  },
  {
   "cell_type": "code",
   "execution_count": 33,
   "id": "fe3ff0f3",
   "metadata": {},
   "outputs": [
    {
     "data": {
      "text/plain": [
       "16"
      ]
     },
     "execution_count": 33,
     "metadata": {},
     "output_type": "execute_result"
    }
   ],
   "source": [
    "B.size"
   ]
  },
  {
   "cell_type": "code",
   "execution_count": 34,
   "id": "34aa286d",
   "metadata": {},
   "outputs": [
    {
     "data": {
      "text/plain": [
       "0.0"
      ]
     },
     "execution_count": 34,
     "metadata": {},
     "output_type": "execute_result"
    }
   ],
   "source": [
    "np.linalg.det(B)"
   ]
  },
  {
   "cell_type": "markdown",
   "id": "8849939f",
   "metadata": {},
   "source": [
    "для матрицы В не получиться вычислить обратную матрицу так как все значения в ней линейно зависимы и определитель = 0"
   ]
  },
  {
   "cell_type": "markdown",
   "id": "2a20a199",
   "metadata": {},
   "source": [
    "# Задание 10\n",
    "Инициализируйте генератор случайных числе с помощью объекта seed, равного 42."
   ]
  },
  {
   "cell_type": "code",
   "execution_count": null,
   "id": "b33c93c6",
   "metadata": {},
   "outputs": [],
   "source": [
    "np.random.seed(42)"
   ]
  },
  {
   "cell_type": "markdown",
   "id": "b0d76af4",
   "metadata": {},
   "source": [
    "# Задание 11\n",
    "Создайте одномерный массив c, составленный из последовательности 16-ти случайных\n",
    "равномерно распределенных целых чисел от 0 до 16 невключительно."
   ]
  },
  {
   "cell_type": "markdown",
   "id": "a2720cb8",
   "metadata": {},
   "source": [
    "1 способ"
   ]
  },
  {
   "cell_type": "code",
   "execution_count": 69,
   "id": "3ce64372",
   "metadata": {},
   "outputs": [],
   "source": [
    "c = np.random.randint(0, 16, size = 16, dtype = np.int16)"
   ]
  },
  {
   "cell_type": "code",
   "execution_count": 70,
   "id": "12bc77f5",
   "metadata": {},
   "outputs": [
    {
     "data": {
      "text/plain": [
       "array([ 4, 10, 13,  0,  1, 11,  8,  4,  3,  0,  3,  7,  1,  7,  9, 10],\n",
       "      dtype=int16)"
      ]
     },
     "execution_count": 70,
     "metadata": {},
     "output_type": "execute_result"
    }
   ],
   "source": [
    "c"
   ]
  },
  {
   "cell_type": "markdown",
   "id": "71ba3d73",
   "metadata": {},
   "source": [
    "2 способ"
   ]
  },
  {
   "cell_type": "code",
   "execution_count": 74,
   "id": "676e7033",
   "metadata": {},
   "outputs": [],
   "source": [
    "c = 16* np.random.sample((1, 16))"
   ]
  },
  {
   "cell_type": "code",
   "execution_count": 75,
   "id": "2d828064",
   "metadata": {},
   "outputs": [],
   "source": [
    "c = np.floor(c)"
   ]
  },
  {
   "cell_type": "code",
   "execution_count": 76,
   "id": "347d3a8b",
   "metadata": {},
   "outputs": [
    {
     "data": {
      "text/plain": [
       "array([[14.,  3., 15.,  8.,  1., 10.,  3.,  5.,  8.,  4.,  8.,  4., 12.,\n",
       "        12.,  3.,  5.]])"
      ]
     },
     "execution_count": 76,
     "metadata": {},
     "output_type": "execute_result"
    }
   ],
   "source": [
    "c"
   ]
  },
  {
   "cell_type": "markdown",
   "id": "d5d78659",
   "metadata": {},
   "source": [
    "# Задание 12\n",
    "Поменяйте его форму так, чтобы получилась квадратная матрица C. Получите матрицу D,\n",
    "поэлементно прибавив матрицу B из предыдущего вопроса к матрице C, умноженной на 10.\n",
    "Вычислите определитель, ранг и обратную матрицу D_inv для D."
   ]
  },
  {
   "cell_type": "code",
   "execution_count": 79,
   "id": "43af5395",
   "metadata": {},
   "outputs": [],
   "source": [
    "C = c.reshape(4, 4)"
   ]
  },
  {
   "cell_type": "code",
   "execution_count": 80,
   "id": "9d165444",
   "metadata": {},
   "outputs": [],
   "source": [
    "D = C + B"
   ]
  },
  {
   "cell_type": "code",
   "execution_count": 82,
   "id": "4d1b710e",
   "metadata": {},
   "outputs": [],
   "source": [
    "D = D.dot(10)"
   ]
  },
  {
   "cell_type": "code",
   "execution_count": 83,
   "id": "3c2f080c",
   "metadata": {},
   "outputs": [
    {
     "data": {
      "text/plain": [
       "array([[ 190.,  170.,  380.,  400.],\n",
       "       [ 150.,  600.,  890., 1270.],\n",
       "       [ 310.,  900., 1570., 2160.],\n",
       "       [ 440., 1340., 2150., 3070.]])"
      ]
     },
     "execution_count": 83,
     "metadata": {},
     "output_type": "execute_result"
    }
   ],
   "source": [
    "D"
   ]
  },
  {
   "cell_type": "code",
   "execution_count": 85,
   "id": "09db42ab",
   "metadata": {},
   "outputs": [
    {
     "data": {
      "text/plain": [
       "1464350000.0000076"
      ]
     },
     "execution_count": 85,
     "metadata": {},
     "output_type": "execute_result"
    }
   ],
   "source": [
    "np.linalg.det(D)"
   ]
  },
  {
   "cell_type": "code",
   "execution_count": 84,
   "id": "4577db71",
   "metadata": {},
   "outputs": [
    {
     "data": {
      "text/plain": [
       "4"
      ]
     },
     "execution_count": 84,
     "metadata": {},
     "output_type": "execute_result"
    }
   ],
   "source": [
    "np.linalg.matrix_rank(D)"
   ]
  },
  {
   "cell_type": "code",
   "execution_count": 87,
   "id": "5aa13dc4",
   "metadata": {},
   "outputs": [],
   "source": [
    "D_inv = np.linalg.inv(D)"
   ]
  },
  {
   "cell_type": "code",
   "execution_count": 88,
   "id": "d6ecd471",
   "metadata": {},
   "outputs": [
    {
     "data": {
      "text/plain": [
       "array([[ 0.00553829, -0.00840987, -0.00956738,  0.00948885],\n",
       "       [ 0.00384676,  0.01584799, -0.00686721, -0.00222556],\n",
       "       [ 0.00283266,  0.01190084,  0.01239389, -0.01401236],\n",
       "       [-0.00445658, -0.01404651, -0.00431113,  0.0097504 ]])"
      ]
     },
     "execution_count": 88,
     "metadata": {},
     "output_type": "execute_result"
    }
   ],
   "source": [
    "D_inv"
   ]
  },
  {
   "cell_type": "markdown",
   "id": "68c5b788",
   "metadata": {},
   "source": [
    "# Задание 13\n",
    "Приравняйте к нулю отрицательные числа в матрице D_inv, а положительные - к единице.\n",
    "Убедитесь, что в матрице D_inv остались только нули и единицы. С помощью функции\n",
    "numpy.where, используя матрицу D_inv в качестве маски, а матрицы B и C - в качестве\n",
    "источников данных, получите матрицу E размером 4x4. Элементы матрицы E, для которых\n",
    "соответствующий элемент матрицы D_inv равен 1, должны быть равны соответствующему\n",
    "элементу матрицы B, а элементы матрицы E, для которых соответствующий элемент матрицы\n",
    "D_inv равен 0, должны быть равны соответствующему элементу матрицы C."
   ]
  },
  {
   "cell_type": "code",
   "execution_count": 94,
   "id": "8cb1c40a",
   "metadata": {},
   "outputs": [],
   "source": [
    "D_inv[D_inv < 0] = 0  "
   ]
  },
  {
   "cell_type": "code",
   "execution_count": 95,
   "id": "2065b598",
   "metadata": {},
   "outputs": [],
   "source": [
    "D_inv[D_inv > 0] = 1"
   ]
  },
  {
   "cell_type": "code",
   "execution_count": 96,
   "id": "6230ef5c",
   "metadata": {},
   "outputs": [
    {
     "data": {
      "text/plain": [
       "array([[1., 0., 0., 1.],\n",
       "       [1., 1., 0., 0.],\n",
       "       [1., 1., 1., 0.],\n",
       "       [0., 0., 0., 1.]])"
      ]
     },
     "execution_count": 96,
     "metadata": {},
     "output_type": "execute_result"
    }
   ],
   "source": [
    "D_inv"
   ]
  },
  {
   "cell_type": "code",
   "execution_count": 97,
   "id": "38ed7ff4",
   "metadata": {},
   "outputs": [
    {
     "data": {
      "text/plain": [
       "array([[  5,  14,  23,  32],\n",
       "       [ 14,  50,  86, 122],\n",
       "       [ 23,  86, 149, 212],\n",
       "       [ 32, 122, 212, 302]])"
      ]
     },
     "execution_count": 97,
     "metadata": {},
     "output_type": "execute_result"
    }
   ],
   "source": [
    "B"
   ]
  },
  {
   "cell_type": "code",
   "execution_count": 98,
   "id": "7e4e790b",
   "metadata": {},
   "outputs": [
    {
     "data": {
      "text/plain": [
       "array([[14.,  3., 15.,  8.],\n",
       "       [ 1., 10.,  3.,  5.],\n",
       "       [ 8.,  4.,  8.,  4.],\n",
       "       [12., 12.,  3.,  5.]])"
      ]
     },
     "execution_count": 98,
     "metadata": {},
     "output_type": "execute_result"
    }
   ],
   "source": [
    "C"
   ]
  },
  {
   "cell_type": "code",
   "execution_count": 115,
   "id": "8a943512",
   "metadata": {},
   "outputs": [],
   "source": [
    "E = D_inv"
   ]
  },
  {
   "cell_type": "code",
   "execution_count": 118,
   "id": "c340393b",
   "metadata": {},
   "outputs": [],
   "source": [
    "E[E == 0] = C[np.where(E == 0)]"
   ]
  },
  {
   "cell_type": "code",
   "execution_count": 120,
   "id": "9cdb7227",
   "metadata": {},
   "outputs": [],
   "source": [
    "E[E == 1] = B[np.where(E == 1)]"
   ]
  },
  {
   "cell_type": "code",
   "execution_count": 121,
   "id": "b997f43c",
   "metadata": {},
   "outputs": [
    {
     "data": {
      "text/plain": [
       "array([[  5.,   3.,  15.,  32.],\n",
       "       [ 14.,  50.,   3.,   5.],\n",
       "       [ 23.,  86., 149.,   4.],\n",
       "       [ 12.,  12.,   3., 302.]])"
      ]
     },
     "execution_count": 121,
     "metadata": {},
     "output_type": "execute_result"
    }
   ],
   "source": [
    "E"
   ]
  },
  {
   "cell_type": "code",
   "execution_count": null,
   "id": "2d8a039b",
   "metadata": {},
   "outputs": [],
   "source": []
  }
 ],
 "metadata": {
  "kernelspec": {
   "display_name": "Python 3",
   "language": "python",
   "name": "python3"
  },
  "language_info": {
   "codemirror_mode": {
    "name": "ipython",
    "version": 3
   },
   "file_extension": ".py",
   "mimetype": "text/x-python",
   "name": "python",
   "nbconvert_exporter": "python",
   "pygments_lexer": "ipython3",
   "version": "3.8.5"
  }
 },
 "nbformat": 4,
 "nbformat_minor": 5
}
